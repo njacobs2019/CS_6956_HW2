{
 "cells": [
  {
   "cell_type": "code",
   "execution_count": null,
   "metadata": {},
   "outputs": [],
   "source": [
    "import comet_ml\n",
    "import torch\n",
    "import matplotlib.pyplot as plt\n",
    "import numpy as np\n",
    "import pandas as pd\n",
    "from dotenv import load_dotenv\n",
    "from torch.utils.data import DataLoader, random_split\n",
    "\n",
    "from datasets import Poly, get_wine_data\n",
    "from models import ModelSmall, ModelMicro\n",
    "from ensemble import predict, evaluate\n",
    "\n",
    "load_dotenv()\n",
    "comet_ml.login()\n",
    "api = comet_ml.API()"
   ]
  },
  {
   "cell_type": "markdown",
   "metadata": {},
   "source": [
    "# Ensemble Member Summary"
   ]
  },
  {
   "cell_type": "code",
   "execution_count": null,
   "metadata": {},
   "outputs": [],
   "source": [
    "def get_ensemble_df(name: str) -> pd.DataFrame:\n",
    "    data = {\"key\": [], \"train_loss\": [], \"val_loss\": []}\n",
    "\n",
    "    for experiment in api.get(\"nichlas-jacobs/pdl-hw2\"):\n",
    "        if experiment.name == name:\n",
    "            data[\"key\"].append(experiment.key)\n",
    "            data[\"train_loss\"].append(\n",
    "                float(experiment.get_metrics(\"train_loss\")[-1][\"metricValue\"])\n",
    "            )\n",
    "            data[\"val_loss\"].append(\n",
    "                float(experiment.get_metrics(\"val_loss\")[-1][\"metricValue\"])\n",
    "            )\n",
    "\n",
    "    return pd.DataFrame(data)\n",
    "\n",
    "\n",
    "df = get_ensemble_df(\"Wine_Trad_Ensemble_600_32\")\n",
    "keys = df[\"key\"].to_list()\n",
    "\n",
    "print(\"All Ensembles\")\n",
    "print(df)\n",
    "\n",
    "print(\"\\ntrain_loss description:\")\n",
    "print(df[\"train_loss\"].describe())\n",
    "\n",
    "print(\"\\nval_loss description:\")\n",
    "print(df[\"val_loss\"].describe())"
   ]
  },
  {
   "cell_type": "markdown",
   "metadata": {},
   "source": [
    "# Load Dataset"
   ]
  },
  {
   "cell_type": "code",
   "execution_count": null,
   "metadata": {},
   "outputs": [],
   "source": [
    "train_ds, test_ds = get_wine_data()\n",
    "train_loader = DataLoader(train_ds, batch_size=256, shuffle=True)\n",
    "test_loader = DataLoader(test_ds, batch_size=256, shuffle=False)"
   ]
  },
  {
   "cell_type": "markdown",
   "metadata": {},
   "source": [
    "# Load the Models"
   ]
  },
  {
   "cell_type": "code",
   "execution_count": null,
   "metadata": {},
   "outputs": [],
   "source": [
    "device = torch.device(\"cuda:1\")\n",
    "models = []\n",
    "\n",
    "for key in keys:\n",
    "    model = ModelSmall(input_dim=11, hidden_dim=32)\n",
    "    model.load_state_dict(torch.load(f\"../checkpoints/{key}.pt\"))\n",
    "    models.append(model.to(device))\n",
    "\n",
    "    print(\n",
    "        evaluate(train_ds, device, [model.to(device)])[0],\n",
    "        evaluate(test_ds, device, [model.to(device)])[0],\n",
    "    )"
   ]
  },
  {
   "cell_type": "markdown",
   "metadata": {},
   "source": [
    "# Ensemble Performance"
   ]
  },
  {
   "cell_type": "code",
   "execution_count": null,
   "metadata": {},
   "outputs": [],
   "source": [
    "print(\"Train performance: MSE_mean, MSE_median, average SD\")\n",
    "print(evaluate(train_ds, device, models))\n",
    "\n",
    "print(\"Test performance: MSE_mean, MSE_median, average SD\")\n",
    "print(evaluate(test_ds, device, models))"
   ]
  }
 ],
 "metadata": {
  "kernelspec": {
   "display_name": "PDL_HW2",
   "language": "python",
   "name": "python3"
  },
  "language_info": {
   "codemirror_mode": {
    "name": "ipython",
    "version": 3
   },
   "file_extension": ".py",
   "mimetype": "text/x-python",
   "name": "python",
   "nbconvert_exporter": "python",
   "pygments_lexer": "ipython3",
   "version": "3.13.2"
  }
 },
 "nbformat": 4,
 "nbformat_minor": 2
}
