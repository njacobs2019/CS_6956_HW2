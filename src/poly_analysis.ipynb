{
 "cells": [
  {
   "cell_type": "code",
   "execution_count": null,
   "metadata": {},
   "outputs": [],
   "source": [
    "import comet_ml\n",
    "import torch\n",
    "import matplotlib.pyplot as plt\n",
    "import numpy as np\n",
    "from dotenv import load_dotenv\n",
    "from torch.utils.data import DataLoader, random_split\n",
    "\n",
    "from datasets import Poly\n",
    "from models import PolyModelSmall\n",
    "from ensemble import predict\n",
    "\n",
    "load_dotenv()\n",
    "comet_ml.login()\n",
    "api = comet_ml.API()"
   ]
  },
  {
   "cell_type": "code",
   "execution_count": null,
   "metadata": {},
   "outputs": [],
   "source": [
    "def get_experiment_keys(name: str) -> list[str]:\n",
    "    \"\"\"\n",
    "    Returns all experiment keys for a given name\n",
    "\n",
    "    Args:\n",
    "        name (str): experiment name\n",
    "\n",
    "    Returns:\n",
    "        list[str]: experiment keys\n",
    "    \"\"\"\n",
    "\n",
    "    keys = []\n",
    "\n",
    "    for experiment in api.get(\"nichlas-jacobs/pdl-hw2\"):\n",
    "        if experiment.name == name:\n",
    "            keys.append(experiment.key)\n",
    "\n",
    "    print(f\"Retrieved {len(keys)} keys\")\n",
    "    return keys\n",
    "\n",
    "\n",
    "keys = get_experiment_keys(\"Poly_Trad_Ensemble_Member_300_epochs\")"
   ]
  },
  {
   "cell_type": "code",
   "execution_count": null,
   "metadata": {},
   "outputs": [],
   "source": [
    "# Load the models\n",
    "device = torch.device(\"cuda:1\")\n",
    "models = []\n",
    "\n",
    "for key in keys:\n",
    "    model = PolyModelSmall(input_dim=1)\n",
    "    model.load_state_dict(torch.load(f\"../checkpoints/{key}.pt\"))\n",
    "    models.append(model.to(device))"
   ]
  },
  {
   "cell_type": "code",
   "execution_count": null,
   "metadata": {},
   "outputs": [],
   "source": [
    "ds = Poly(10000)\n",
    "train_ds, test_ds = random_split(ds, [0.8, 0.2])\n",
    "train_loader = DataLoader(train_ds, batch_size=2000, shuffle=True)\n",
    "test_loader = DataLoader(test_ds, batch_size=2000, shuffle=False)"
   ]
  },
  {
   "cell_type": "code",
   "execution_count": null,
   "metadata": {},
   "outputs": [],
   "source": [
    "x_tensor = torch.linspace(-2, 2, 100).reshape(-1, 1).to(device)\n",
    "x = x_tensor.to(\"cpu\").squeeze().numpy()\n",
    "results = predict(x_tensor, models)"
   ]
  },
  {
   "cell_type": "code",
   "execution_count": null,
   "metadata": {},
   "outputs": [],
   "source": [
    "plt.plot(x, results.mean.to(\"cpu\").squeeze().numpy(), label=\"mean\")\n",
    "plt.plot(x, results.min.to(\"cpu\").squeeze().numpy(), label=\"min\")\n",
    "plt.plot(x, results.max.to(\"cpu\").squeeze().numpy(), label=\"max\")\n",
    "plt.xlabel(\"x\")\n",
    "plt.ylabel(\"f(x)\")\n",
    "plt.title(f\"Ensemble on Poly Dataset {len(keys)} Members\")\n",
    "plt.legend()"
   ]
  },
  {
   "cell_type": "code",
   "execution_count": null,
   "metadata": {},
   "outputs": [],
   "source": []
  }
 ],
 "metadata": {
  "kernelspec": {
   "display_name": "Python 3",
   "language": "python",
   "name": "python3"
  },
  "language_info": {
   "codemirror_mode": {
    "name": "ipython",
    "version": 3
   },
   "file_extension": ".py",
   "mimetype": "text/x-python",
   "name": "python",
   "nbconvert_exporter": "python",
   "pygments_lexer": "ipython3",
   "version": "3.13.2"
  }
 },
 "nbformat": 4,
 "nbformat_minor": 2
}
