{
 "cells": [
  {
   "cell_type": "code",
   "execution_count": null,
   "metadata": {},
   "outputs": [],
   "source": [
    "import torch\n",
    "import matplotlib.pyplot as plt\n",
    "import numpy as np\n",
    "import pandas as pd\n",
    "from torch.utils.data import DataLoader, random_split\n",
    "import glob\n",
    "\n",
    "from datasets import Poly, get_wine_data\n",
    "from models import ModelSmall, ModelMicro\n",
    "from ensemble import predict, evaluate, evaluate_ensemble_components"
   ]
  },
  {
   "cell_type": "markdown",
   "metadata": {},
   "source": [
    "# Ensemble Member Summary"
   ]
  },
  {
   "cell_type": "code",
   "execution_count": null,
   "metadata": {},
   "outputs": [],
   "source": [
    "experiment_key = \"8316424c2c384b3eb96243f21d5778ae\"\n",
    "checkpoints = glob.glob(f\"../checkpoints/{experiment_key}_fge*\", recursive=False)\n",
    "\n",
    "print(f\"Found {len(checkpoints)} FGE checkpoints\")\n",
    "for checkpoint in checkpoints:\n",
    "    print(checkpoint)"
   ]
  },
  {
   "cell_type": "markdown",
   "metadata": {},
   "source": [
    "# Load Dataset"
   ]
  },
  {
   "cell_type": "code",
   "execution_count": null,
   "metadata": {},
   "outputs": [],
   "source": [
    "train_ds, test_ds = get_wine_data()\n",
    "train_loader = DataLoader(train_ds, batch_size=256, shuffle=True)\n",
    "test_loader = DataLoader(test_ds, batch_size=256, shuffle=False)"
   ]
  },
  {
   "cell_type": "markdown",
   "metadata": {},
   "source": [
    "# Load the Models"
   ]
  },
  {
   "cell_type": "code",
   "execution_count": null,
   "metadata": {},
   "outputs": [],
   "source": [
    "device = torch.device(\"cuda:1\")\n",
    "models = []\n",
    "\n",
    "for checkpoint in checkpoints:\n",
    "    model = ModelSmall(input_dim=11, hidden_dim=32)\n",
    "    model.load_state_dict(torch.load(checkpoint, map_location=\"cpu\"))\n",
    "    models.append(model.to(device))"
   ]
  },
  {
   "cell_type": "markdown",
   "metadata": {},
   "source": [
    "# Performance of each model in ensemble"
   ]
  },
  {
   "cell_type": "code",
   "execution_count": null,
   "metadata": {},
   "outputs": [],
   "source": [
    "df_post = evaluate_ensemble_components(train_loader, test_loader, device, models)\n",
    "\n",
    "print(\"All Models\")\n",
    "print(df_post)\n",
    "\n",
    "print(\"\\ntrain_loss description:\")\n",
    "print(df_post[\"train_loss\"].describe())\n",
    "\n",
    "print(\"\\nval_loss description:\")\n",
    "print(df_post[\"test_loss\"].describe())"
   ]
  },
  {
   "cell_type": "markdown",
   "metadata": {},
   "source": [
    "# Ensemble Performance"
   ]
  },
  {
   "cell_type": "code",
   "execution_count": null,
   "metadata": {},
   "outputs": [],
   "source": [
    "print(\"Train performance: MSE_mean, MSE_median, average SD\")\n",
    "print(evaluate(train_loader, device, models))\n",
    "\n",
    "print(\"Test performance: MSE_mean, MSE_median, average SD\")\n",
    "print(evaluate(test_loader, device, models))"
   ]
  },
  {
   "cell_type": "code",
   "execution_count": null,
   "metadata": {},
   "outputs": [],
   "source": [
    "def ensemble_performance_table(loader):\n",
    "    data = {\"Size\": [], \"MSE with Mean\": [], \"MSE with Median\": [], \"SD\": []}\n",
    "\n",
    "    for ensemble in [models, models[:5], models[:3]]:\n",
    "        a, b, c = evaluate(loader, device, ensemble)\n",
    "        data[\"Size\"].append(len(ensemble))\n",
    "        data[\"MSE with Mean\"].append(a)\n",
    "        data[\"MSE with Median\"].append(b)\n",
    "        data[\"SD\"].append(c)\n",
    "\n",
    "    return pd.DataFrame(data)\n",
    "\n",
    "\n",
    "print(ensemble_performance_table(train_loader))\n",
    "print(ensemble_performance_table(test_loader))"
   ]
  }
 ],
 "metadata": {
  "kernelspec": {
   "display_name": "Python 3",
   "language": "python",
   "name": "python3"
  },
  "language_info": {
   "codemirror_mode": {
    "name": "ipython",
    "version": 3
   },
   "file_extension": ".py",
   "mimetype": "text/x-python",
   "name": "python",
   "nbconvert_exporter": "python",
   "pygments_lexer": "ipython3",
   "version": "3.13.2"
  }
 },
 "nbformat": 4,
 "nbformat_minor": 2
}
